{
  "nbformat": 4,
  "nbformat_minor": 0,
  "metadata": {
    "colab": {
      "name": "Untitled.ipynb",
      "version": "0.3.2",
      "views": {},
      "default_view": {},
      "provenance": [],
      "collapsed_sections": []
    },
    "kernelspec": {
      "display_name": "Python 3",
      "language": "python",
      "name": "python3"
    },
    "accelerator": "GPU"
  },
  "cells": [
    {
      "metadata": {
        "id": "ebOc_J4cOuwq",
        "colab_type": "code",
        "colab": {
          "autoexec": {
            "startup": false,
            "wait_interval": 0
          },
          "base_uri": "https://localhost:8080/",
          "height": 227
        },
        "outputId": "4fba691e-6e13-4c76-af83-d1fdc2b4434f",
        "executionInfo": {
          "status": "ok",
          "timestamp": 1532939480079,
          "user_tz": -420,
          "elapsed": 17723,
          "user": {
            "displayName": "Phạm Khánh",
            "photoUrl": "https://lh3.googleusercontent.com/a/default-user=s128",
            "userId": "108013420442388490411"
          }
        }
      },
      "cell_type": "code",
      "source": [
        "!wget https://uacrmq.bn.files.1drv.com/y4mT1jud_V_DEwauFGLYrGeYH5Lxbig3sjNV_4P3eKAvrd-qtgfWCUa75glkj1CfjoTDzd2J-ZvATQFKkNgKg5Vc_b0QFL1_LmVj_Gts22ak3nQMeQ_zACmLdjbFAruKcQurwgpABqWP8NcGV6E_ayYzOTD6yIIsJe75Vd5yirDKAL6h4Yqf5smXNsrbk37vf1O/input.csv"
      ],
      "execution_count": 0,
      "outputs": [
        {
          "output_type": "stream",
          "text": [
            "--2018-07-30 08:30:09--  https://uacrmq.bn.files.1drv.com/y4mT1jud_V_DEwauFGLYrGeYH5Lxbig3sjNV_4P3eKAvrd-qtgfWCUa75glkj1CfjoTDzd2J-ZvATQFKkNgKg5Vc_b0QFL1_LmVj_Gts22ak3nQMeQ_zACmLdjbFAruKcQurwgpABqWP8NcGV6E_ayYzOTD6yIIsJe75Vd5yirDKAL6h4Yqf5smXNsrbk37vf1O/input.csv\n",
            "Resolving uacrmq.bn.files.1drv.com (uacrmq.bn.files.1drv.com)... 204.79.197.213\n",
            "Connecting to uacrmq.bn.files.1drv.com (uacrmq.bn.files.1drv.com)|204.79.197.213|:443... connected.\n",
            "HTTP request sent, awaiting response... 200 OK\n",
            "Length: 399393515 (381M) [application/octet-stream]\n",
            "Saving to: ‘input.csv.1’\n",
            "\n",
            "input.csv.1         100%[===================>] 380.89M  25.1MB/s    in 15s     \n",
            "\n",
            "2018-07-30 08:30:25 (25.6 MB/s) - ‘input.csv.1’ saved [399393515/399393515]\n",
            "\n"
          ],
          "name": "stdout"
        }
      ]
    },
    {
      "metadata": {
        "id": "y5wSrWX6PjPb",
        "colab_type": "code",
        "colab": {
          "autoexec": {
            "startup": false,
            "wait_interval": 0
          },
          "base_uri": "https://localhost:8080/",
          "height": 34
        },
        "outputId": "27a9497f-22a6-41ec-9bba-b490c657509e",
        "executionInfo": {
          "status": "ok",
          "timestamp": 1532926500648,
          "user_tz": -420,
          "elapsed": 2070,
          "user": {
            "displayName": "Phạm Khánh",
            "photoUrl": "https://lh3.googleusercontent.com/a/default-user=s128",
            "userId": "108013420442388490411"
          }
        }
      },
      "cell_type": "code",
      "source": [
        "!ls"
      ],
      "execution_count": 0,
      "outputs": [
        {
          "output_type": "stream",
          "text": [
            "datalab  input.csv\r\n"
          ],
          "name": "stdout"
        }
      ]
    },
    {
      "metadata": {
        "id": "WMP-JQCDPMBT",
        "colab_type": "code",
        "colab": {
          "autoexec": {
            "startup": false,
            "wait_interval": 0
          },
          "base_uri": "https://localhost:8080/",
          "height": 469
        },
        "outputId": "d8fea669-9665-4cd3-aca7-7f8abd18e6c4",
        "executionInfo": {
          "status": "ok",
          "timestamp": 1532939484755,
          "user_tz": -420,
          "elapsed": 4565,
          "user": {
            "displayName": "Phạm Khánh",
            "photoUrl": "https://lh3.googleusercontent.com/a/default-user=s128",
            "userId": "108013420442388490411"
          }
        }
      },
      "cell_type": "code",
      "source": [
        "!pip install gensim\n",
        "import nltk\n",
        "nltk.download('stopwords')\n",
        "import nltk\n",
        "nltk.download('punkt')\n",
        "import nltk\n",
        "nltk.download('wordnet')"
      ],
      "execution_count": 0,
      "outputs": [
        {
          "output_type": "stream",
          "text": [
            "Requirement already satisfied: gensim in /usr/local/lib/python3.6/dist-packages (3.5.0)\n",
            "Requirement already satisfied: six>=1.5.0 in /usr/local/lib/python3.6/dist-packages (from gensim) (1.11.0)\n",
            "Requirement already satisfied: smart-open>=1.2.1 in /usr/local/lib/python3.6/dist-packages (from gensim) (1.6.0)\n",
            "Requirement already satisfied: scipy>=0.18.1 in /usr/local/lib/python3.6/dist-packages (from gensim) (0.19.1)\n",
            "Requirement already satisfied: numpy>=1.11.3 in /usr/local/lib/python3.6/dist-packages (from gensim) (1.14.5)\n",
            "Requirement already satisfied: bz2file in /usr/local/lib/python3.6/dist-packages (from smart-open>=1.2.1->gensim) (0.98)\n",
            "Requirement already satisfied: boto3 in /usr/local/lib/python3.6/dist-packages (from smart-open>=1.2.1->gensim) (1.7.65)\n",
            "Requirement already satisfied: boto>=2.32 in /usr/local/lib/python3.6/dist-packages (from smart-open>=1.2.1->gensim) (2.49.0)\n",
            "Requirement already satisfied: requests in /usr/local/lib/python3.6/dist-packages (from smart-open>=1.2.1->gensim) (2.18.4)\n",
            "Requirement already satisfied: botocore<1.11.0,>=1.10.65 in /usr/local/lib/python3.6/dist-packages (from boto3->smart-open>=1.2.1->gensim) (1.10.65)\n",
            "Requirement already satisfied: jmespath<1.0.0,>=0.7.1 in /usr/local/lib/python3.6/dist-packages (from boto3->smart-open>=1.2.1->gensim) (0.9.3)\n",
            "Requirement already satisfied: s3transfer<0.2.0,>=0.1.10 in /usr/local/lib/python3.6/dist-packages (from boto3->smart-open>=1.2.1->gensim) (0.1.13)\n",
            "Requirement already satisfied: urllib3<1.23,>=1.21.1 in /usr/local/lib/python3.6/dist-packages (from requests->smart-open>=1.2.1->gensim) (1.22)\n",
            "Requirement already satisfied: idna<2.7,>=2.5 in /usr/local/lib/python3.6/dist-packages (from requests->smart-open>=1.2.1->gensim) (2.6)\n",
            "Requirement already satisfied: chardet<3.1.0,>=3.0.2 in /usr/local/lib/python3.6/dist-packages (from requests->smart-open>=1.2.1->gensim) (3.0.4)\n",
            "Requirement already satisfied: certifi>=2017.4.17 in /usr/local/lib/python3.6/dist-packages (from requests->smart-open>=1.2.1->gensim) (2018.4.16)\n",
            "Requirement already satisfied: python-dateutil<3.0.0,>=2.1; python_version >= \"2.7\" in /usr/local/lib/python3.6/dist-packages (from botocore<1.11.0,>=1.10.65->boto3->smart-open>=1.2.1->gensim) (2.5.3)\n",
            "Requirement already satisfied: docutils>=0.10 in /usr/local/lib/python3.6/dist-packages (from botocore<1.11.0,>=1.10.65->boto3->smart-open>=1.2.1->gensim) (0.14)\n",
            "[nltk_data] Downloading package stopwords to /content/nltk_data...\n",
            "[nltk_data]   Package stopwords is already up-to-date!\n",
            "[nltk_data] Downloading package punkt to /content/nltk_data...\n",
            "[nltk_data]   Package punkt is already up-to-date!\n",
            "[nltk_data] Downloading package wordnet to /content/nltk_data...\n",
            "[nltk_data]   Package wordnet is already up-to-date!\n"
          ],
          "name": "stdout"
        },
        {
          "output_type": "execute_result",
          "data": {
            "text/plain": [
              "True"
            ]
          },
          "metadata": {
            "tags": []
          },
          "execution_count": 3
        }
      ]
    },
    {
      "metadata": {
        "id": "JMD9GPETIL2p",
        "colab_type": "code",
        "colab": {
          "autoexec": {
            "startup": false,
            "wait_interval": 0
          },
          "base_uri": "https://localhost:8080/",
          "height": 34
        },
        "outputId": "dbca8697-adb2-4547-c32b-88b7c931affd",
        "executionInfo": {
          "status": "ok",
          "timestamp": 1532939489056,
          "user_tz": -420,
          "elapsed": 4190,
          "user": {
            "displayName": "Phạm Khánh",
            "photoUrl": "https://lh3.googleusercontent.com/a/default-user=s128",
            "userId": "108013420442388490411"
          }
        }
      },
      "cell_type": "code",
      "source": [
        "import pandas as pd\n",
        "import numpy as np\n",
        "from collections import Counter\n",
        "import re\n",
        "\n",
        "# languange processing imports\n",
        "import nltk\n",
        "from gensim.corpora import Dictionary\n",
        "# preprocessing imports\n",
        "from sklearn.preprocessing import LabelEncoder\n",
        "from keras.models import Sequential\n",
        "from keras.layers import Dense, Dropout, Flatten\n",
        "from keras.layers import Conv2D, MaxPooling2D\n",
        "# model imports\n",
        "from gensim.models.ldamulticore import LdaMulticore\n",
        "from gensim.models.word2vec import Word2Vec\n",
        "from sklearn.ensemble import RandomForestClassifier, AdaBoostClassifier\n",
        "from sklearn.linear_model import LogisticRegression\n",
        "# hyperparameter training imports\n",
        "from sklearn.model_selection import GridSearchCV\n",
        "\n",
        "# visualization imports\n",
        "\n",
        "import seaborn as sns\n",
        "import base64\n",
        "import io\n",
        "%matplotlib inline"
      ],
      "execution_count": 0,
      "outputs": [
        {
          "output_type": "stream",
          "text": [
            "Using TensorFlow backend.\n"
          ],
          "name": "stderr"
        }
      ]
    },
    {
      "metadata": {
        "id": "s7QB1HO2IL2z",
        "colab_type": "code",
        "colab": {
          "autoexec": {
            "startup": false,
            "wait_interval": 0
          }
        }
      },
      "cell_type": "code",
      "source": [
        ""
      ],
      "execution_count": 0,
      "outputs": []
    },
    {
      "metadata": {
        "id": "i3NacU0QIL23",
        "colab_type": "code",
        "colab": {
          "autoexec": {
            "startup": false,
            "wait_interval": 0
          }
        }
      },
      "cell_type": "code",
      "source": [
        "\n"
      ],
      "execution_count": 0,
      "outputs": []
    },
    {
      "metadata": {
        "id": "3wgnicN4IL27",
        "colab_type": "code",
        "colab": {
          "autoexec": {
            "startup": false,
            "wait_interval": 0
          }
        }
      },
      "cell_type": "code",
      "source": [
        "data = pd.read_csv(\"input.csv\")"
      ],
      "execution_count": 0,
      "outputs": []
    },
    {
      "metadata": {
        "id": "VNuRN7WbIL3A",
        "colab_type": "code",
        "colab": {
          "autoexec": {
            "startup": false,
            "wait_interval": 0
          },
          "base_uri": "https://localhost:8080/",
          "height": 198
        },
        "outputId": "daa5f715-d3de-461d-f0e5-61d4680211bb",
        "executionInfo": {
          "status": "ok",
          "timestamp": 1532939502211,
          "user_tz": -420,
          "elapsed": 6648,
          "user": {
            "displayName": "Phạm Khánh",
            "photoUrl": "https://lh3.googleusercontent.com/a/default-user=s128",
            "userId": "108013420442388490411"
          }
        }
      },
      "cell_type": "code",
      "source": [
        "for i in range(data.shape[0]):\n",
        "    rmtext = data.author[i].split(' ')\n",
        "    for text in rmtext:\n",
        "        data.context[i] = data.context[i].replace(text,'')\n",
        "\n",
        "data['context'] = data['context'].str.replace('\\r', '')\n",
        "data['context'] = data['context'].str.replace('\\n', ' ')\n",
        "data['context'] = data['context'].str.replace(\"\\'s\", '')\n",
        "data['context'] = data['context'].str.replace(\"\\'s\", '')\n",
        "data['context'] = data['context'].str.replace(\"\\'\", '')\n",
        "data['context'] = data['context'].str.replace(\"'\", '')\n",
        "# def remove_non_ascii(text):\n",
        "#     return ''.join(i for i in text if ord(i)<128)\n",
        " \n",
        "#data['context'] = data['context'].apply(remove_non_ascii)\n",
        "\n",
        "from nltk.corpus import stopwords\n",
        "# stop = stopwords.words('english')\n",
        "# test['tweet'].apply(lambda x: [item for item in x if item not in stop])\n",
        "data.head()"
      ],
      "execution_count": 0,
      "outputs": [
        {
          "output_type": "execute_result",
          "data": {
            "text/html": [
              "<div>\n",
              "<style scoped>\n",
              "    .dataframe tbody tr th:only-of-type {\n",
              "        vertical-align: middle;\n",
              "    }\n",
              "\n",
              "    .dataframe tbody tr th {\n",
              "        vertical-align: top;\n",
              "    }\n",
              "\n",
              "    .dataframe thead th {\n",
              "        text-align: right;\n",
              "    }\n",
              "</style>\n",
              "<table border=\"1\" class=\"dataframe\">\n",
              "  <thead>\n",
              "    <tr style=\"text-align: right;\">\n",
              "      <th></th>\n",
              "      <th>author</th>\n",
              "      <th>context</th>\n",
              "    </tr>\n",
              "  </thead>\n",
              "  <tbody>\n",
              "    <tr>\n",
              "      <th>0</th>\n",
              "      <td>Andrew Lang</td>\n",
              "      <td>A Collection of Ballads     Contents:  Sir Pa...</td>\n",
              "    </tr>\n",
              "    <tr>\n",
              "      <th>1</th>\n",
              "      <td>Andrew Lang</td>\n",
              "      <td>A MONK OF FIFE Being the Chronicle written ...</td>\n",
              "    </tr>\n",
              "    <tr>\n",
              "      <th>2</th>\n",
              "      <td>Andrew Lang</td>\n",
              "      <td>A SHORT HISTORY OF SCOTLAND   CHAPTER I.  SCO...</td>\n",
              "    </tr>\n",
              "    <tr>\n",
              "      <th>3</th>\n",
              "      <td>Andrew Lang</td>\n",
              "      <td>ADVENTURES AMONG BOOKS by     Contents:  Pre...</td>\n",
              "    </tr>\n",
              "    <tr>\n",
              "      <th>4</th>\n",
              "      <td>Andrew Lang</td>\n",
              "      <td>ALFRED TENNYSON  by       INTRODUCTION    In ...</td>\n",
              "    </tr>\n",
              "  </tbody>\n",
              "</table>\n",
              "</div>"
            ],
            "text/plain": [
              "        author                                            context\n",
              "0  Andrew Lang   A Collection of Ballads     Contents:  Sir Pa...\n",
              "1  Andrew Lang     A MONK OF FIFE Being the Chronicle written ...\n",
              "2  Andrew Lang   A SHORT HISTORY OF SCOTLAND   CHAPTER I.  SCO...\n",
              "3  Andrew Lang    ADVENTURES AMONG BOOKS by     Contents:  Pre...\n",
              "4  Andrew Lang   ALFRED TENNYSON  by       INTRODUCTION    In ..."
            ]
          },
          "metadata": {
            "tags": []
          },
          "execution_count": 6
        }
      ]
    },
    {
      "metadata": {
        "id": "JXPUC9JeIL3F",
        "colab_type": "code",
        "colab": {
          "autoexec": {
            "startup": false,
            "wait_interval": 0
          }
        }
      },
      "cell_type": "code",
      "source": [
        "from sklearn.feature_extraction.text import TfidfVectorizer, CountVectorizer\n",
        "\n",
        "\n",
        "# NMF is able to use tf-idf\n",
        "tfidf_vectorizer = TfidfVectorizer(max_df=0.95, min_df=2, stop_words='english')\n",
        "tfidf = tfidf_vectorizer.fit_transform(data.context)\n",
        "tfidf_feature_names = tfidf_vectorizer.get_feature_names()\n",
        "\n",
        "# LDA can only use raw term counts for LDA because it is a probabilistic graphical model\n",
        "tf_vectorizer = CountVectorizer(max_df=0.95, min_df=2, stop_words='english')\n",
        "tf = tf_vectorizer.fit_transform(data.context)\n",
        "tf_feature_names = tf_vectorizer.get_feature_names()"
      ],
      "execution_count": 0,
      "outputs": []
    },
    {
      "metadata": {
        "id": "gSZCRfgzIZIi",
        "colab_type": "code",
        "colab": {
          "autoexec": {
            "startup": false,
            "wait_interval": 0
          },
          "base_uri": "https://localhost:8080/",
          "height": 72
        },
        "outputId": "78bf0297-ab75-48a1-e80e-52d655c1a7d9",
        "executionInfo": {
          "status": "ok",
          "timestamp": 1532926814698,
          "user_tz": -420,
          "elapsed": 185580,
          "user": {
            "displayName": "Phạm Khánh",
            "photoUrl": "https://lh3.googleusercontent.com/a/default-user=s128",
            "userId": "108013420442388490411"
          }
        }
      },
      "cell_type": "code",
      "source": [
        "from sklearn.decomposition import NMF, LatentDirichletAllocation\n",
        "\n",
        "no_topics = 15\n",
        "\n",
        "# Run NMF\n",
        "nmf = NMF(n_components=no_topics, random_state=1, alpha=.1, l1_ratio=.5, init='nndsvd').fit(tfidf)\n",
        "\n",
        "# Run LDA\n",
        "lda = LatentDirichletAllocation(n_topics=no_topics, max_iter=5, learning_method='online', learning_offset=50.,random_state=0).fit(tf)\n"
      ],
      "execution_count": 0,
      "outputs": [
        {
          "output_type": "stream",
          "text": [
            "/usr/local/lib/python3.6/dist-packages/sklearn/decomposition/online_lda.py:294: DeprecationWarning: n_topics has been renamed to n_components in version 0.19 and will be removed in 0.21\n",
            "  DeprecationWarning)\n"
          ],
          "name": "stderr"
        }
      ]
    },
    {
      "metadata": {
        "id": "zx3c-fpoDmZQ",
        "colab_type": "code",
        "colab": {
          "autoexec": {
            "startup": false,
            "wait_interval": 0
          },
          "base_uri": "https://localhost:8080/",
          "height": 1054
        },
        "outputId": "753414d0-756f-4d9f-e97a-c97ec6175a3d",
        "executionInfo": {
          "status": "ok",
          "timestamp": 1532926815629,
          "user_tz": -420,
          "elapsed": 881,
          "user": {
            "displayName": "Phạm Khánh",
            "photoUrl": "https://lh3.googleusercontent.com/a/default-user=s128",
            "userId": "108013420442388490411"
          }
        }
      },
      "cell_type": "code",
      "source": [
        "def display_topics(model, feature_names, no_top_words):\n",
        "    for topic_idx, topic in enumerate(model.components_):\n",
        "        print (\"Topic %d:\" % (topic_idx))\n",
        "        print (\" \".join([feature_names[i]\n",
        "                        for i in topic.argsort()[:-no_top_words - 1:-1]]))\n",
        "\n",
        "no_top_words = 10\n",
        "display_topics(nmf, tfidf_feature_names, no_top_words)\n",
        "display_topics(lda, tf_feature_names, no_top_words)"
      ],
      "execution_count": 0,
      "outputs": [
        {
          "output_type": "stream",
          "text": [
            "Topic 0:\n",
            "house dont quite father room sir got captain work course\n",
            "Topic 1:\n",
            "ses ad wot im ginger arter sam ave er bob\n",
            "Topic 2:\n",
            "dick tom sam rover baxter dora putnam boys songbird crabtree\n",
            "Topic 3:\n",
            "roberts campbell willis mrs bemis lawton curwen _mrs mcilheny agnes\n",
            "Topic 4:\n",
            "literary literature boston lowell author new book longfellow read cambridge\n",
            "Topic 5:\n",
            "dave phil roger merwell nat haskers barringford jasniff jessie poole\n",
            "Topic 6:\n",
            "king prince princess queen palace prigio answered sultan fairy daughter\n",
            "Topic 7:\n",
            "king richard cuthbert earl edward duke henry english france england\n",
            "Topic 8:\n",
            "mr mrs miss dont lady sir im room gentleman wife\n",
            "Topic 9:\n",
            "holmes watson sherlock lestrade mr gregson mortimer room mycroft inspector\n",
            "Topic 10:\n",
            "illustration children garden bed hayloft child marching land sea play\n",
            "Topic 11:\n",
            "alan ye catriona balfour prestongrange says stewart james andie david\n",
            "Topic 12:\n",
            "shep whopper snap giant spink jed ham lake felps sanborn\n",
            "Topic 13:\n",
            "skipper mate ll ve don cook didn deck gannett captain\n",
            "Topic 14:\n",
            "clarence susy peyton brant griff hooker jim fordyce martyn emily\n",
            "Topic 0:\n",
            "mr mrs lady miss dont sir house course love knew\n",
            "Topic 1:\n",
            "mr maisie savage myth gods myths god obin eskimo wix\n",
            "Topic 2:\n",
            "lady mr alice eustace lizzie lord mrs lucy george ayala\n",
            "Topic 3:\n",
            "mr dont sir asked got going mrs father room door\n",
            "Topic 4:\n",
            "king ye lord english sir queen james thou castle england\n",
            "Topic 5:\n",
            "ses im mr ad wot got skipper ginger em ave\n",
            "Topic 6:\n",
            "peterkin shakespeare mr bacon plays greenwood alph author ben does\n",
            "Topic 7:\n",
            "mr lady lord father house dont wife course phineas love\n",
            "Topic 8:\n",
            "march fulkerson dryfoos beaton burnamy lindau artin triscoe german disco\n",
            "Topic 9:\n",
            "dave boys tom dick rover dont answered sam going cried\n",
            "Topic 10:\n",
            "mr lord prince lady isabel osmond northwick berenger sabin father\n",
            "Topic 11:\n",
            "bartley alaric staniford lydia charley halleck katie scott woodward marcia\n",
            "Topic 12:\n",
            "strether vyner chad philippa mitchy longdon hartley nanda truefitt mr\n",
            "Topic 13:\n",
            "rome cicero roman romans peter father city army called beric\n",
            "Topic 14:\n",
            "mr new house work world quite english mrs course country\n"
          ],
          "name": "stdout"
        }
      ]
    },
    {
      "metadata": {
        "id": "a6ALa5DnOleT",
        "colab_type": "code",
        "colab": {
          "autoexec": {
            "startup": false,
            "wait_interval": 0
          }
        }
      },
      "cell_type": "code",
      "source": [
        "from gensim.summarization.summarizer import summarize"
      ],
      "execution_count": 0,
      "outputs": []
    },
    {
      "metadata": {
        "id": "OXgORfYtIL3K",
        "colab_type": "code",
        "colab": {
          "autoexec": {
            "startup": false,
            "wait_interval": 0
          },
          "base_uri": "https://localhost:8080/",
          "height": 166
        },
        "outputId": "5a4cebe9-6290-49fd-f07a-547b2d591207",
        "executionInfo": {
          "status": "error",
          "timestamp": 1532943622952,
          "user_tz": -420,
          "elapsed": 888,
          "user": {
            "displayName": "Phạm Khánh",
            "photoUrl": "https://lh3.googleusercontent.com/a/default-user=s128",
            "userId": "108013420442388490411"
          }
        }
      },
      "cell_type": "code",
      "source": [
        "# data['sumarize'] = np.nan\n",
        "data['sumarize'] = data['context'].apply(summarize)\n"
      ],
      "execution_count": 0,
      "outputs": [
        {
          "output_type": "error",
          "ename": "NameError",
          "evalue": "ignored",
          "traceback": [
            "\u001b[0;31m---------------------------------------------------------------------------\u001b[0m",
            "\u001b[0;31mNameError\u001b[0m                                 Traceback (most recent call last)",
            "\u001b[0;32m<ipython-input-2-39d230452a7a>\u001b[0m in \u001b[0;36m<module>\u001b[0;34m()\u001b[0m\n\u001b[0;32m----> 1\u001b[0;31m \u001b[0mdata\u001b[0m\u001b[0;34m[\u001b[0m\u001b[0;34m'sumarize'\u001b[0m\u001b[0;34m]\u001b[0m \u001b[0;34m=\u001b[0m \u001b[0mdata\u001b[0m\u001b[0;34m[\u001b[0m\u001b[0;34m'context'\u001b[0m\u001b[0;34m]\u001b[0m\u001b[0;34m.\u001b[0m\u001b[0mapply\u001b[0m\u001b[0;34m(\u001b[0m\u001b[0msummarize\u001b[0m\u001b[0;34m)\u001b[0m\u001b[0;34m\u001b[0m\u001b[0m\n\u001b[0m",
            "\u001b[0;31mNameError\u001b[0m: name 'data' is not defined"
          ]
        }
      ]
    },
    {
      "metadata": {
        "id": "fOmeiiJfasFk",
        "colab_type": "code",
        "colab": {
          "autoexec": {
            "startup": false,
            "wait_interval": 0
          },
          "base_uri": "https://localhost:8080/",
          "height": 166
        },
        "outputId": "c456696a-b7b7-4e86-e83b-8a7f87e68339",
        "executionInfo": {
          "status": "error",
          "timestamp": 1532933527817,
          "user_tz": -420,
          "elapsed": 680,
          "user": {
            "displayName": "Phạm Khánh",
            "photoUrl": "https://lh3.googleusercontent.com/a/default-user=s128",
            "userId": "108013420442388490411"
          }
        }
      },
      "cell_type": "code",
      "source": [
        "data['sumarize'].head()"
      ],
      "execution_count": 0,
      "outputs": [
        {
          "output_type": "error",
          "ename": "NameError",
          "evalue": "ignored",
          "traceback": [
            "\u001b[0;31m---------------------------------------------------------------------------\u001b[0m",
            "\u001b[0;31mNameError\u001b[0m                                 Traceback (most recent call last)",
            "\u001b[0;32m<ipython-input-1-727411f9aa90>\u001b[0m in \u001b[0;36m<module>\u001b[0;34m()\u001b[0m\n\u001b[0;32m----> 1\u001b[0;31m \u001b[0mdata\u001b[0m\u001b[0;34m[\u001b[0m\u001b[0;34m'sumarize'\u001b[0m\u001b[0;34m]\u001b[0m\u001b[0;34m.\u001b[0m\u001b[0mhead\u001b[0m\u001b[0;34m(\u001b[0m\u001b[0;34m)\u001b[0m\u001b[0;34m\u001b[0m\u001b[0m\n\u001b[0m",
            "\u001b[0;31mNameError\u001b[0m: name 'data' is not defined"
          ]
        }
      ]
    },
    {
      "metadata": {
        "id": "awSrSfEwIL3S",
        "colab_type": "code",
        "colab": {
          "autoexec": {
            "startup": false,
            "wait_interval": 0
          }
        }
      },
      "cell_type": "code",
      "source": [
        ""
      ],
      "execution_count": 0,
      "outputs": []
    },
    {
      "metadata": {
        "id": "laiUZe0fIL3V",
        "colab_type": "code",
        "colab": {
          "autoexec": {
            "startup": false,
            "wait_interval": 0
          }
        }
      },
      "cell_type": "code",
      "source": [
        ""
      ],
      "execution_count": 0,
      "outputs": []
    },
    {
      "metadata": {
        "id": "jHqxpL7TfpHa",
        "colab_type": "text"
      },
      "cell_type": "markdown",
      "source": [
        ""
      ]
    },
    {
      "metadata": {
        "id": "IDW9in70IL3b",
        "colab_type": "code",
        "colab": {
          "autoexec": {
            "startup": false,
            "wait_interval": 0
          }
        }
      },
      "cell_type": "code",
      "source": [
        ""
      ],
      "execution_count": 0,
      "outputs": []
    },
    {
      "metadata": {
        "id": "uoZKxWT7IL3f",
        "colab_type": "code",
        "colab": {
          "autoexec": {
            "startup": false,
            "wait_interval": 0
          }
        }
      },
      "cell_type": "code",
      "source": [
        ""
      ],
      "execution_count": 0,
      "outputs": []
    },
    {
      "metadata": {
        "id": "7juR_zLFIL3k",
        "colab_type": "code",
        "colab": {
          "autoexec": {
            "startup": false,
            "wait_interval": 0
          }
        }
      },
      "cell_type": "code",
      "source": [
        ""
      ],
      "execution_count": 0,
      "outputs": []
    },
    {
      "metadata": {
        "id": "FIW97e7kIL3x",
        "colab_type": "code",
        "colab": {
          "autoexec": {
            "startup": false,
            "wait_interval": 0
          }
        }
      },
      "cell_type": "code",
      "source": [
        ""
      ],
      "execution_count": 0,
      "outputs": []
    },
    {
      "metadata": {
        "id": "kqLRWvS2IL36",
        "colab_type": "code",
        "colab": {
          "autoexec": {
            "startup": false,
            "wait_interval": 0
          }
        }
      },
      "cell_type": "code",
      "source": [
        ""
      ],
      "execution_count": 0,
      "outputs": []
    }
  ]
}